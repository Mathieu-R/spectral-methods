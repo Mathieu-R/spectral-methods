{
 "cells": [
  {
   "cell_type": "markdown",
   "id": "elegant-issue",
   "metadata": {},
   "source": [
    "### Linear Advection Problem\n",
    "#### Problème\n",
    "Soit l'équation d'advection, \n",
    "$$\n",
    "\\frac{\\partial u}{\\partial t} + c \\frac{\\partial u}{\\partial x} = 0\n",
    "$$\n",
    "avec $x \\in [0, 2\\pi]$ et $c = \\frac{2\\pi}{10}$ et $t = [0, 20]$.\n",
    "\n",
    "#### Conditions initiales\n",
    "$$\n",
    "u(x,0) = \\exp\\left(- \\frac{(x - \\mu)^2}{2\\sigma^2} \\right)\n",
    "$$\n",
    "avec $\\mu = \\frac{2\\pi}{5}$ et $\\sigma = \\frac{2\\pi}{20}$ \n",
    "\n",
    "#### Passage dans l'espace de Fourier\n",
    "$$\n",
    "\\frac{\\partial \\hat{u}(k,t)}{\\partial t} = -c ik \\hat{u}(k,t)\n",
    "$$\n",
    " \n",
    "On divise l'espace en intervalles de tailles $\\Delta x = \\frac{2\\pi}{N}$.    \n",
    "Tandis que le domaine du nombre d'onde est $k = -N/2,\\dots, N/2 - 1$   \n",
    "On applique la condition initiale dans l'espace de Fourier: $\\hat{u}(k,0) = \\mathcal{F}\\left[ (u(x,0)) \\right]$\n",
    "\n",
    "#### Intégration\n",
    "On peut utiliser un Euler-avant, \n",
    "$$\n",
    "\\frac{u(k,t+1) - u(k,t)}{\\Delta t} = -c ik \\hat{u}(k,t)\n",
    "$$\n",
    "\n",
    "Finalement on retourne dans l'espace réel\n",
    "$$\n",
    "u(x,t) = \\mathcal{F}^{-1}\\left[ (u(k,t)) \\right]\n",
    "$$"
   ]
  },
  {
   "cell_type": "code",
   "execution_count": 2,
   "id": "exciting-brake",
   "metadata": {},
   "outputs": [],
   "source": [
    "import numpy as np\n",
    "import matplotlib.pyplot as plt\n",
    "\n",
    "from matplotlib.pyplot import cm "
   ]
  },
  {
   "cell_type": "code",
   "execution_count": 3,
   "id": "worth-meter",
   "metadata": {},
   "outputs": [
    {
     "data": {
      "text/plain": [
       "Text(0.5, 1.0, 'Advection linéaire: c = 0.6283185307179586')"
      ]
     },
     "execution_count": 3,
     "metadata": {},
     "output_type": "execute_result"
    },
    {
     "data": {
      "image/png": "[encoded data removed]",
      "text/plain": [
       "<Figure size 432x288 with 2 Axes>"
      ]
     },
     "metadata": {
      "needs_background": "light"
     },
     "output_type": "display_data"
    }
   ],
   "source": [
    "c = (2 * np.pi) / 10 \n",
    "\n",
    "mu = (2 * np.pi) / 5 \n",
    "sigma = (2 * np.pi) / 20\n",
    "\n",
    "x0 = 0 \n",
    "xN = 2 * np.pi\n",
    "Nx = 64\n",
    "dx = (xN - x0) / Nx \n",
    "\n",
    "# wave numbers mesh\n",
    "k = np.arange(-Nx/2, Nx/2, 1) \n",
    "\n",
    "x = np.linspace(start=x0, stop=xN, num=Nx) \n",
    "\n",
    "t0 = 0\n",
    "tN = 10\n",
    "dt = 0.001\n",
    "Nt = int((tN - t0) / dt)\n",
    "\n",
    "t = np.linspace(start=t0, stop=tN, num=Nt)\n",
    "\n",
    "# solution mesh in real space\n",
    "u = np.ones((Nx, Nt))\n",
    "# solution mesh in fourier space\n",
    "u_hat = np.ones((Nx, Nt), dtype=\"complex\")\n",
    "\n",
    "# initial condition\n",
    "u0 = np.exp(-((x - mu) ** 2) / (2 * (sigma ** 2)))\n",
    "\n",
    "# fourier transform of initial condition\n",
    "u0_hat = (1 / Nx) * np.fft.fftshift(np.fft.fft(u0))\n",
    "\n",
    "# set initial condition in real and fourier mesh \n",
    "u[:,0] = u0\n",
    "u_hat[:,0] = u0_hat\n",
    "\n",
    "# forward euler\n",
    "for j in range(0, Nt-1):\n",
    "  # compute solution in Fourier space through a finite difference method\n",
    "  u_hat[:,j+1] = u_hat[:,j] - dt * c * 1j * k * u_hat[:,j]\n",
    "  # go back in real space \n",
    "  u[:,j] = np.real(Nx * np.fft.ifft(np.fft.ifftshift(u_hat[:,j])))\n",
    "  \n",
    "fig, ax = plt.subplots()\n",
    "\n",
    "# get meshgrid\n",
    "xx, tt = np.meshgrid(x, t)\n",
    "# plot contour, get colorbar\n",
    "# use transpose to get t first then x\n",
    "levels = np.arange(-0.1, 1.1, 0.1)\n",
    "cs = ax.contourf(xx, tt, u.T, cmap=cm.coolwarm)\n",
    "# plot colorbar \n",
    "plt.colorbar(cs)\n",
    "\n",
    "ax.set_xlabel(\"x\")\n",
    "ax.set_ylabel(\"t\")\n",
    "ax.set_title(f\"Advection linéaire: c = {c}\")"
   ]
  },
  {
   "cell_type": "code",
   "execution_count": null,
   "id": "stuck-novelty",
   "metadata": {},
   "outputs": [],
   "source": []
  }
 ],
 "metadata": {
  "kernelspec": {
   "display_name": "Python 3",
   "language": "python",
   "name": "python3"
  },
  "language_info": {
   "codemirror_mode": {
    "name": "ipython",
    "version": 3
   },
   "file_extension": ".py",
   "mimetype": "text/x-python",
   "name": "python",
   "nbconvert_exporter": "python",
   "pygments_lexer": "ipython3",
   "version": "3.9.1"
  }
 },
 "nbformat": 4,
 "nbformat_minor": 5
}
